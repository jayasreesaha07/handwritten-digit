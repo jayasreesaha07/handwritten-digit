{
  "cells": [
    {
      "cell_type": "code",
      "execution_count": null,
      "metadata": {
        "id": "f3VOx0fuoZXZ"
      },
      "outputs": [],
      "source": [
        "import numpy as np\n",
        "import cv2\n",
        "import matplotlib.pyplot as plt\n",
        "from google.colab.patches import cv2_imshow\n",
        "from sklearn.model_selection import train_test_split\n",
        "from sklearn.preprocessing import StandardScaler\n",
        "from sklearn.neighbors import KNeighborsClassifier\n",
        "from sklearn.metrics import accuracy_score\n",
        "import tensorflow as tf"
      ]
    },
    {
      "cell_type": "code",
      "execution_count": null,
      "metadata": {
        "colab": {
          "base_uri": "https://localhost:8080/"
        },
        "id": "86bO1AHXnYxP",
        "outputId": "b1695c96-6554-4e6b-c3bb-0d3bf7b1c081"
      },
      "outputs": [
        {
          "output_type": "stream",
          "name": "stdout",
          "text": [
            "91.64\n"
          ]
        }
      ],
      "source": [
        "# Read the image\n",
        "image = cv2.imread('/content/drive/MyDrive/Jayasree/Projects/Open_cv/OCR/digits1.png')\n",
        "\n",
        "# gray scale conversion\n",
        "gray_img = cv2.cvtColor(image, cv2.COLOR_BGR2GRAY)\n",
        "\n",
        "# We will divide the image into 5000 small dimensions of size 20x20\n",
        "divisions = list(np.hsplit(i,100) for i in np.vsplit(gray_img,50))\n",
        "\n",
        "# Convert into Numpy array of size (50,100,20,20)\n",
        "NP_array = np.array(divisions)\n",
        "\n",
        "# Preparing train_data and test_data.Size will be (2500,20x20)\n",
        "train_data = NP_array[:,:50].reshape(-1,400).astype(np.float32)\n",
        "\n",
        "# Size will be (2500,20x20)\n",
        "test_data = NP_array[:,50:100].reshape(-1,400).astype(np.float32)\n",
        "\n",
        "# Create 10 different labels for each type of digit\n",
        "k = np.arange(10)\n",
        "train_labels = np.repeat(k,250)[:,np.newaxis]\n",
        "test_labels = np.repeat(k,250)[:,np.newaxis]\n",
        "\n",
        "# Initiate kNN classifier\n",
        "knn = cv2.ml.KNearest_create()\n",
        "\n",
        "# perform training of data\n",
        "knn.train(train_data,cv2.ml.ROW_SAMPLE,train_labels)\n",
        "\n",
        "# obtain the output from the classifier by specifying the number of neighbors.\n",
        "ret, output ,neighbours,distance = knn.findNearest(test_data, k = 3)\n",
        "\n",
        "# Check the performance and accuracy of the classifier.Compare the output with test_labels to find out how many are wrong.\n",
        "matched = output==test_labels\n",
        "correct_OP = np.count_nonzero(matched)\n",
        "\n",
        "#Calculate the accuracy.\n",
        "accuracy = (correct_OP*100.0)/(output.size)\n",
        "\n",
        "# Display accuracy.\n",
        "print(accuracy)\n"
      ]
    },
    {
      "cell_type": "code",
      "source": [
        "# Load the MNIST dataset\n",
        "(x_train, y_train), (x_test, y_test) = tf.keras.datasets.mnist.load_data()\n",
        "\n",
        "# Reshape the data to 2D (from 28x28 to 784)\n",
        "x_train = x_train.reshape(x_train.shape[0], -1)\n",
        "x_test = x_test.reshape(x_test.shape[0], -1)\n",
        "\n",
        "# Normalize the data to the range [0, 1]\n",
        "x_train = x_train.astype('float32') / 255.0\n",
        "x_test = x_test.astype('float32') / 255.0\n",
        "\n",
        "# Optionally, split the training data to create a validation set\n",
        "x_train, x_val, y_train, y_val = train_test_split(x_train, y_train, test_size=0.2, random_state=42)\n",
        "\n",
        "# Initialize the k-NN classifier\n",
        "knn = KNeighborsClassifier(n_neighbors=3)\n",
        "\n",
        "# Train the classifier\n",
        "knn.fit(x_train, y_train)\n",
        "\n",
        "# Predict on the validation set\n",
        "y_val_pred = knn.predict(x_val)\n",
        "\n",
        "# Calculate the accuracy on the validation set\n",
        "val_accuracy = accuracy_score(y_val, y_val_pred)\n",
        "print(\"Validation Accuracy:\", val_accuracy)\n",
        "\n",
        "# Predict on the test set\n",
        "y_test_pred = knn.predict(x_test)\n",
        "\n",
        "# Calculate the accuracy on the test set\n",
        "test_accuracy = accuracy_score(y_test, y_test_pred)\n",
        "print(\"Test Accuracy:\", test_accuracy)\n"
      ],
      "metadata": {
        "colab": {
          "base_uri": "https://localhost:8080/"
        },
        "id": "2il_EFs-qWv1",
        "outputId": "e11b36b6-8ee5-4ac3-af77-b8ca0092d05e"
      },
      "execution_count": null,
      "outputs": [
        {
          "output_type": "stream",
          "name": "stdout",
          "text": [
            "Validation Accuracy: 0.9726666666666667\n",
            "Test Accuracy: 0.9681\n"
          ]
        }
      ]
    },
    {
      "cell_type": "code",
      "source": [
        "x_test[0].shape"
      ],
      "metadata": {
        "colab": {
          "base_uri": "https://localhost:8080/"
        },
        "id": "TlSec04Q72uF",
        "outputId": "73cf64b5-9106-4ec9-9472-a5e67854fb81"
      },
      "execution_count": null,
      "outputs": [
        {
          "output_type": "execute_result",
          "data": {
            "text/plain": [
              "(784,)"
            ]
          },
          "metadata": {},
          "execution_count": 63
        }
      ]
    },
    {
      "cell_type": "code",
      "source": [
        "# Predict on the test set\n",
        "y_test_pred = knn.predict(np.array([x_test[0]]))\n",
        "print(y_test_pred)\n"
      ],
      "metadata": {
        "colab": {
          "base_uri": "https://localhost:8080/"
        },
        "id": "Q1a0g7Ia7JT0",
        "outputId": "8b18042f-df6b-458a-b423-af1695453a73"
      },
      "execution_count": null,
      "outputs": [
        {
          "output_type": "stream",
          "name": "stdout",
          "text": [
            "[7]\n"
          ]
        }
      ]
    },
    {
      "cell_type": "code",
      "source": [
        "# Read the image\n",
        "image = cv2.imread('/content/drive/MyDrive/Jayasree/Projects/Open_cv/OCR/six.png')\n",
        "image = cv2.resize(image,(28,28))\n",
        "# gray scale conversion\n",
        "gray_img = cv2.cvtColor(image, cv2.COLOR_BGR2GRAY)\n",
        "ret, binary_img = cv2.threshold(gray_img, 127, 255, cv2.THRESH_BINARY)\n",
        "cv2_imshow(binary_img)\n",
        "test = np.array(binary_img).reshape(1,-1)\n"
      ],
      "metadata": {
        "id": "RLQBJ72Ft4gk",
        "colab": {
          "base_uri": "https://localhost:8080/",
          "height": 45
        },
        "outputId": "2bdbeb7d-0508-469c-8745-d885dc528240"
      },
      "execution_count": 87,
      "outputs": [
        {
          "output_type": "display_data",
          "data": {
            "text/plain": [
              "<PIL.Image.Image image mode=L size=28x28>"
            ],
            "image/png": "[encoded data removed]"
          },
          "metadata": {}
        }
      ]
    },
    {
      "cell_type": "code",
      "source": [
        "test.shape"
      ],
      "metadata": {
        "colab": {
          "base_uri": "https://localhost:8080/"
        },
        "id": "nYoT6ryQ0hwP",
        "outputId": "b7996cd4-351e-4bef-c6be-4d722990489c"
      },
      "execution_count": 88,
      "outputs": [
        {
          "output_type": "execute_result",
          "data": {
            "text/plain": [
              "(1, 784)"
            ]
          },
          "metadata": {},
          "execution_count": 88
        }
      ]
    },
    {
      "cell_type": "code",
      "source": [
        "# Predict on the test set\n",
        "y_test_pred = knn.predict(test)\n",
        "print(y_test_pred)\n"
      ],
      "metadata": {
        "colab": {
          "base_uri": "https://localhost:8080/"
        },
        "id": "1Zz5dPsU0ls-",
        "outputId": "3080337e-7e78-4916-961e-9a0e22e13ed9"
      },
      "execution_count": 89,
      "outputs": [
        {
          "output_type": "stream",
          "name": "stdout",
          "text": [
            "[6]\n"
          ]
        }
      ]
    }
  ],
  "metadata": {
    "colab": {
      "provenance": []
    },
    "kernelspec": {
      "display_name": "Python 3",
      "name": "python3"
    },
    "language_info": {
      "name": "python"
    }
  },
  "nbformat": 4,
  "nbformat_minor": 0
}